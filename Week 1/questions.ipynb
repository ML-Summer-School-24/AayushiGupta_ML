{
 "cells": [
  {
   "cell_type": "code",
   "execution_count": 1,
   "id": "eb64ea1c-4c09-4a5b-825b-73f1b84f3f12",
   "metadata": {},
   "outputs": [
    {
     "name": "stdout",
     "output_type": "stream",
     "text": [
      "   Roll Number     Name  Gender  Marks1  Marks2  Marks3\n",
      "0          101    Alice  Female      85      78      80\n",
      "1          102      Bob    Male      76      82      79\n",
      "2          103  Charlie    Male      92      91      88\n",
      "3          104    David    Male      88      83      90\n",
      "4          105      Eve  Female      79      77      83\n",
      "5          106    Frank    Male      81      85      87\n",
      "6          107    Grace  Female      95      89      91\n",
      "7          108   Hannah  Female      90      92      86\n",
      "8          109      Ian    Male      84      80      82\n",
      "9          110    Julia  Female      87      86      84\n"
     ]
    }
   ],
   "source": [
    "import pandas as pd\n",
    "\n",
    "data = {\n",
    "    'Roll Number': [101, 102, 103, 104, 105, 106, 107, 108, 109, 110],\n",
    "    'Name': ['Alice', 'Bob', 'Charlie', 'David', 'Eve', 'Frank', 'Grace', 'Hannah', 'Ian', 'Julia'],\n",
    "    'Gender': ['Female', 'Male', 'Male', 'Male', 'Female', 'Male', 'Female', 'Female', 'Male', 'Female'],\n",
    "    'Marks1': [85, 76, 92, 88, 79, 81, 95, 90, 84, 87],\n",
    "    'Marks2': [78, 82, 91, 83, 77, 85, 89, 92, 80, 86],\n",
    "    'Marks3': [80, 79, 88, 90, 83, 87, 91, 86, 82, 84]\n",
    "}\n",
    "\n",
    "df = pd.DataFrame(data)\n",
    "\n",
    "print(df)\n",
    "\n"
   ]
  },
  {
   "cell_type": "code",
   "execution_count": 3,
   "id": "576f54e0-d77a-4766-a56f-9c6b6e566138",
   "metadata": {},
   "outputs": [
    {
     "name": "stdout",
     "output_type": "stream",
     "text": [
      "   Roll Number     Name  Gender  Marks1  Marks2  Marks3  Total\n",
      "0          101    Alice  Female      85      78      80    243\n",
      "1          102      Bob    Male      76      82      79    237\n",
      "2          103  Charlie    Male      92      91      88    271\n",
      "3          104    David    Male      88      83      90    261\n",
      "4          105      Eve  Female      79      77      83    239\n",
      "5          106    Frank    Male      81      85      87    253\n",
      "6          107    Grace  Female      95      89      91    275\n",
      "7          108   Hannah  Female      90      92      86    268\n",
      "8          109      Ian    Male      84      80      82    246\n",
      "9          110    Julia  Female      87      86      84    257\n"
     ]
    }
   ],
   "source": [
    "df['Total'] = df.iloc[:,3:6].sum(axis=1)\n",
    "print(df)"
   ]
  },
  {
   "cell_type": "code",
   "execution_count": 6,
   "id": "c1149a7b-1e4e-42cb-8c80-2b7eaca0c184",
   "metadata": {},
   "outputs": [
    {
     "name": "stdout",
     "output_type": "stream",
     "text": [
      "76\n"
     ]
    }
   ],
   "source": [
    "lowest_marks1=df['Marks1'].min()\n",
    "print(lowest_marks1)"
   ]
  },
  {
   "cell_type": "code",
   "execution_count": 7,
   "id": "549ed72b-abbe-479a-abe5-b19b9161d75f",
   "metadata": {},
   "outputs": [
    {
     "name": "stdout",
     "output_type": "stream",
     "text": [
      "92\n"
     ]
    }
   ],
   "source": [
    "highest_marks2=df['Marks2'].max()\n",
    "print(highest_marks2)"
   ]
  },
  {
   "cell_type": "code",
   "execution_count": 9,
   "id": "1534ac53-22cc-4700-abf7-800db6891443",
   "metadata": {},
   "outputs": [
    {
     "name": "stdout",
     "output_type": "stream",
     "text": [
      "85.0\n"
     ]
    }
   ],
   "source": [
    "avg_marks3=df['Marks3'].mean()\n",
    "print(avg_marks3)"
   ]
  },
  {
   "cell_type": "code",
   "execution_count": 11,
   "id": "e81ab3fb-5e57-4415-9bf7-86b6adc3aa65",
   "metadata": {},
   "outputs": [
    {
     "name": "stdout",
     "output_type": "stream",
     "text": [
      "   Roll Number     Name  Gender  Marks1  Marks2  Marks3  Total    Average\n",
      "0          101    Alice  Female      85      78      80    243  81.000000\n",
      "1          102      Bob    Male      76      82      79    237  79.000000\n",
      "2          103  Charlie    Male      92      91      88    271  90.333333\n",
      "3          104    David    Male      88      83      90    261  87.000000\n",
      "4          105      Eve  Female      79      77      83    239  79.666667\n",
      "5          106    Frank    Male      81      85      87    253  84.333333\n",
      "6          107    Grace  Female      95      89      91    275  91.666667\n",
      "7          108   Hannah  Female      90      92      86    268  89.333333\n",
      "8          109      Ian    Male      84      80      82    246  82.000000\n",
      "9          110    Julia  Female      87      86      84    257  85.666667\n"
     ]
    }
   ],
   "source": [
    "df['Average']=df.iloc[:,6].divide(3)\n",
    "print(df)"
   ]
  },
  {
   "cell_type": "code",
   "execution_count": 16,
   "id": "cf55d245-6e44-4089-b434-7dde6c6c346a",
   "metadata": {},
   "outputs": [
    {
     "name": "stdout",
     "output_type": "stream",
     "text": [
      "6    Grace\n",
      "Name: Name, dtype: object\n"
     ]
    }
   ],
   "source": [
    "highest_avg = df['Average'].max()\n",
    "result = df.loc[df['Average'] == highest_avg]\n",
    "print(result['Name'])\n",
    "\n"
   ]
  },
  {
   "cell_type": "code",
   "execution_count": 29,
   "id": "234b8589-4608-448d-86be-f5520bb04fcf",
   "metadata": {},
   "outputs": [
    {
     "data": {
      "text/html": [
       "<div>\n",
       "<style scoped>\n",
       "    .dataframe tbody tr th:only-of-type {\n",
       "        vertical-align: middle;\n",
       "    }\n",
       "\n",
       "    .dataframe tbody tr th {\n",
       "        vertical-align: top;\n",
       "    }\n",
       "\n",
       "    .dataframe thead th {\n",
       "        text-align: right;\n",
       "    }\n",
       "</style>\n",
       "<table border=\"1\" class=\"dataframe\">\n",
       "  <thead>\n",
       "    <tr style=\"text-align: right;\">\n",
       "      <th></th>\n",
       "      <th>Roll Number</th>\n",
       "      <th>Marks1</th>\n",
       "      <th>Marks2</th>\n",
       "      <th>Marks3</th>\n",
       "      <th>Total</th>\n",
       "      <th>Average</th>\n",
       "      <th>count</th>\n",
       "    </tr>\n",
       "  </thead>\n",
       "  <tbody>\n",
       "    <tr>\n",
       "      <th>min</th>\n",
       "      <td>101.00</td>\n",
       "      <td>76.00</td>\n",
       "      <td>77.00</td>\n",
       "      <td>79.00</td>\n",
       "      <td>237.00</td>\n",
       "      <td>79.000000</td>\n",
       "      <td>1.0</td>\n",
       "    </tr>\n",
       "    <tr>\n",
       "      <th>25%</th>\n",
       "      <td>103.25</td>\n",
       "      <td>81.75</td>\n",
       "      <td>80.50</td>\n",
       "      <td>82.25</td>\n",
       "      <td>243.75</td>\n",
       "      <td>81.250000</td>\n",
       "      <td>1.0</td>\n",
       "    </tr>\n",
       "    <tr>\n",
       "      <th>50%</th>\n",
       "      <td>105.50</td>\n",
       "      <td>86.00</td>\n",
       "      <td>84.00</td>\n",
       "      <td>85.00</td>\n",
       "      <td>255.00</td>\n",
       "      <td>85.000000</td>\n",
       "      <td>1.0</td>\n",
       "    </tr>\n",
       "    <tr>\n",
       "      <th>75%</th>\n",
       "      <td>107.75</td>\n",
       "      <td>89.50</td>\n",
       "      <td>88.25</td>\n",
       "      <td>87.75</td>\n",
       "      <td>266.25</td>\n",
       "      <td>88.750000</td>\n",
       "      <td>1.0</td>\n",
       "    </tr>\n",
       "    <tr>\n",
       "      <th>max</th>\n",
       "      <td>110.00</td>\n",
       "      <td>95.00</td>\n",
       "      <td>92.00</td>\n",
       "      <td>91.00</td>\n",
       "      <td>275.00</td>\n",
       "      <td>91.666667</td>\n",
       "      <td>1.0</td>\n",
       "    </tr>\n",
       "  </tbody>\n",
       "</table>\n",
       "</div>"
      ],
      "text/plain": [
       "     Roll Number  Marks1  Marks2  Marks3   Total    Average  count\n",
       "min       101.00   76.00   77.00   79.00  237.00  79.000000    1.0\n",
       "25%       103.25   81.75   80.50   82.25  243.75  81.250000    1.0\n",
       "50%       105.50   86.00   84.00   85.00  255.00  85.000000    1.0\n",
       "75%       107.75   89.50   88.25   87.75  266.25  88.750000    1.0\n",
       "max       110.00   95.00   92.00   91.00  275.00  91.666667    1.0"
      ]
     },
     "execution_count": 29,
     "metadata": {},
     "output_type": "execute_result"
    }
   ],
   "source": [
    "df.describe().loc[['min', '25%', '50%', '75%', 'max']]"
   ]
  },
  {
   "cell_type": "code",
   "execution_count": 36,
   "id": "3287108c-4f8a-4c65-a110-7de428b894c5",
   "metadata": {},
   "outputs": [
    {
     "name": "stdout",
     "output_type": "stream",
     "text": [
      "Number of people in dataframe who failed :  0\n"
     ]
    }
   ],
   "source": [
    "details = df.apply(lambda x : True\n",
    "            if x['Marks2'] < 40 else False, axis = 1) \n",
    "people_failed = len(details[details == True].index) \n",
    "print('Number of people in dataframe who failed : ', \n",
    "      people_failed ) \n",
    "  "
   ]
  },
  {
   "cell_type": "code",
   "execution_count": 38,
   "id": "3947b7c0-b310-41e8-974e-57964da74161",
   "metadata": {},
   "outputs": [
    {
     "name": "stdout",
     "output_type": "stream",
     "text": [
      "   Roll Number     Name  Gender  Marks1  Marks2  Marks3  Total    Average\n",
      "0          101    Alice  Female      85      78      80    243  81.000000\n",
      "1          102      Bob    Male      76      82      79    237  79.000000\n",
      "2          103  Charlie    Male      92      91      88    271  90.333333\n",
      "3          104    David    Male      88      83      90    261  87.000000\n",
      "4          105      Eve  Female      79      77      83    239  79.666667\n",
      "5          106    Frank    Male      81      85      87    253  84.333333\n",
      "6          107    Grace  Female      95      89      91    275  91.666667\n",
      "7          108   Hannah  Female      90      92      86    268  89.333333\n",
      "8          109      Ian    Male      84      80      82    246  82.000000\n",
      "9          110    Julia  Female      87      86      84    257  85.666667\n"
     ]
    }
   ],
   "source": [
    "print(df)"
   ]
  }
 ],
 "metadata": {
  "kernelspec": {
   "display_name": "Python 3 (ipykernel)",
   "language": "python",
   "name": "python3"
  },
  "language_info": {
   "codemirror_mode": {
    "name": "ipython",
    "version": 3
   },
   "file_extension": ".py",
   "mimetype": "text/x-python",
   "name": "python",
   "nbconvert_exporter": "python",
   "pygments_lexer": "ipython3",
   "version": "3.11.7"
  }
 },
 "nbformat": 4,
 "nbformat_minor": 5
}
